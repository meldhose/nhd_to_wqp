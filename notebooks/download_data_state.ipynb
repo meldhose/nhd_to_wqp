{
 "cells": [
  {
   "cell_type": "markdown",
   "metadata": {},
   "source": [
    "### Download NHD to WQP dataset for each state\n",
    "\n",
    "For the given state, this script downloads the dataset of 6 tables forming the NHD to WQP dataset"
   ]
  },
  {
   "cell_type": "code",
   "execution_count": null,
   "metadata": {
    "collapsed": true
   },
   "outputs": [],
   "source": [
    "import os\n",
    "import csv\n",
    "import nhd_to_wqp_process10\n",
    "import pandas as pd"
   ]
  },
  {
   "cell_type": "markdown",
   "metadata": {},
   "source": [
    "#### Functions in preparing the NHD to WQP dataset\n",
    "\n",
    "Following section of the notebook lists the function definitions\n",
    "\n",
    "1. Function to format the file path\n",
    "2. Function to write the chunks to the done file\n",
    "3. Function to create and store locally the dataset for the given state"
   ]
  },
  {
   "cell_type": "code",
   "execution_count": null,
   "metadata": {
    "collapsed": true
   },
   "outputs": [],
   "source": [
    "#### 1. F"
   ]
  },
  {
   "cell_type": "code",
   "execution_count": 4,
   "metadata": {
    "collapsed": true
   },
   "outputs": [],
   "source": [
    "def format(x):\n",
    "    \"\"\"\n",
    "        Prepends directory path to input\n",
    "        Args:\n",
    "            x (str): Input String\n",
    "        Returns:\n",
    "             (str)\n",
    "    \"\"\"\n",
    "    global directory\n",
    "    return directory+x"
   ]
  },
  {
   "cell_type": "code",
   "execution_count": 5,
   "metadata": {
    "collapsed": true
   },
   "outputs": [],
   "source": [
    "def done_chunks(list_done,state):\n",
    "    \"\"\"\n",
    "        Writes into file the chunks that are done processing\n",
    "        Args:\n",
    "            list_done (list): Input list,\n",
    "            state (str): Input String\n",
    "    \"\"\"\n",
    "    file = open('done_'+state+'.txt','list_done') \n",
    "    file.write('\\n--------------------------------\\n')\n",
    "    file.write('\\n'.join(list_done))\n",
    "    file.close()"
   ]
  },
  {
   "cell_type": "code",
   "execution_count": 6,
   "metadata": {
    "collapsed": false
   },
   "outputs": [],
   "source": [
    "def download_data(directory,state_chunks_path):\n",
    "    \"\"\"\n",
    "        Forms the NHD-WQP data for the state in the given local folder path\n",
    "        Args:\n",
    "            directory (str): Input String,\n",
    "            state_chunks_path (str): Input String\n",
    "    \"\"\"\n",
    "    count = 0\n",
    "    from datetime import datetime\n",
    "    startTime = datetime.now()\n",
    "    \n",
    "    # Read the file containing the list of the data paths to the chunks for the state\n",
    "    df_Commands = pd.read_csv('state_chunks_path',index_col=False)\n",
    "    \n",
    "    # Number of chunks for the state\n",
    "    len_in_c = len(df_MI_Commands)\n",
    "    \n",
    "    # Populate the data-set for each of the chunk \n",
    "    while(len_in_c>0):\n",
    "        count+=10\n",
    "        curr_df = list(df_Commands.loc[0:9, 'File Location'])\n",
    "        nhd_to_wqp_process10.final_func(curr_df)\n",
    "        print \"Time taken: \"+ str(datetime.now() - startTime)\n",
    "        print \"The number of files done are \"+ str(count)\n",
    "\n",
    "        # Write to done file\n",
    "        done_chunks(curr_df)\n",
    "\n",
    "        # Delete from the dataframe MI Commands\n",
    "        df_Commands = df_Commands.iloc[len(curr_df):]\n",
    "        len_in_c-=len(curr_df)\n",
    "        print \"The length: \"+ str(len_in_c)"
   ]
  },
  {
   "cell_type": "code",
   "execution_count": null,
   "metadata": {
    "collapsed": true
   },
   "outputs": [],
   "source": []
  }
 ],
 "metadata": {
  "kernelspec": {
   "display_name": "Python 2",
   "language": "python",
   "name": "python2"
  },
  "language_info": {
   "codemirror_mode": {
    "name": "ipython",
    "version": 2
   },
   "file_extension": ".py",
   "mimetype": "text/x-python",
   "name": "python",
   "nbconvert_exporter": "python",
   "pygments_lexer": "ipython2",
   "version": "2.7.13"
  }
 },
 "nbformat": 4,
 "nbformat_minor": 2
}
