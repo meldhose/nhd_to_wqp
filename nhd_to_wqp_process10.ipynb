{
 "cells": [
  {
   "cell_type": "markdown",
   "metadata": {},
   "source": [
    "### Dataset for the NHD to WQP\n",
    "\n",
    "This script contains the definition of functions used in forming the <i>NHD</i> to <i>WQP</i> dataset\n",
    "The <i>NHD</i> to <i>WQP</i> dataset consists of the following 6 csv files \n",
    "\n",
    "Listed below are the 6 csv files generated.\n",
    "\n",
    "1. <b>WaterBody</b> - Table that stores details of Water Body\n",
    "2. <b>BoundingBox</b> - Table that stores details about the bounding box \n",
    "3. <b>W2B</b> - Relation Table from Water Body to Bounding-Box \n",
    "4. <b>B2S</b> - Relation Table from Bounding-Box to Sites\n",
    "5. <b>W2S</b> - Relation Table from Water Body to Sites\n",
    "6. <b>Sites</b> - Table that stores details of the Sites\n"
   ]
  },
  {
   "cell_type": "code",
   "execution_count": 3,
   "metadata": {
    "collapsed": false
   },
   "outputs": [
    {
     "name": "stdout",
     "output_type": "stream",
     "text": [
      "doing node 'org'\n",
      "doing node 'station'\n",
      "doing node 'result'\n",
      "doing node 'activity'\n"
     ]
    }
   ],
   "source": [
    "import shapefile\n",
    "import pandas as pd\n",
    "from shapely.geometry import *\n",
    "from simpledbf import Dbf5\n",
    "from pywqp import pywqp_client\n",
    "from geopandas import *\n",
    "import os,glob\n",
    "import shutil\n",
    "import pandas as pd"
   ]
  },
  {
   "cell_type": "code",
   "execution_count": 4,
   "metadata": {
    "collapsed": true
   },
   "outputs": [],
   "source": [
    "# To avoid throwing of warnings\n",
    "pd.options.mode.chained_assignment = None \n",
    "\n",
    "# Getting all the polygon shape files \n",
    "data_path = \"NHD_High_Resolution/NHD_Minnesota/Shape/\"\n",
    "sf = shapefile.Reader(data_path+\"NHDWaterbody.shx\")\n",
    "shapes = sf.shapes()\n",
    "\n",
    "# Global variables intialization\n",
    "df_sites = pd.DataFrame()\n",
    "df_master_sites_table = pd.DataFrame()"
   ]
  },
  {
   "cell_type": "markdown",
   "metadata": {},
   "source": [
    "-------------------------"
   ]
  },
  {
   "cell_type": "markdown",
   "metadata": {},
   "source": [
    "#### Helper Functions that aid in the creation of the data-set\n",
    "\n",
    "Below section of the notebook defines functions that aid in the creation of the dataset\n",
    "\n",
    "1. Function to construct a polygon for water body with points\n",
    "2. Function to query WQP with the bounding box coordinates\n",
    "3. Function to check if the coordinates lie within the polygon of water body."
   ]
  },
  {
   "cell_type": "markdown",
   "metadata": {},
   "source": [
    "##### 1. Function to construct a polygon with points"
   ]
  },
  {
   "cell_type": "code",
   "execution_count": 2,
   "metadata": {
    "collapsed": true
   },
   "outputs": [],
   "source": [
    "# Construct polygon of the water body\n",
    "def construct_polygon(points):\n",
    "    \"\"\"\n",
    "        Constructs polygon of the water body\n",
    "        Args:\n",
    "            points (list): Input String\n",
    "        Returns:\n",
    "            polygon (shapely.geometry.polygon.Polygon)\n",
    "    \"\"\"\n",
    "    polygon = shape(points)\n",
    "    return polygon"
   ]
  },
  {
   "cell_type": "markdown",
   "metadata": {},
   "source": [
    "##### 2. Function to query WQP on the bounding box coordinates"
   ]
  },
  {
   "cell_type": "code",
   "execution_count": 5,
   "metadata": {
    "collapsed": true
   },
   "outputs": [],
   "source": [
    "# Query WQP with the bounding box co-ordinates\n",
    "def web_service_call(bbox):\n",
    "    \"\"\"\n",
    "        Retrieves data from water quality portal using web service client\n",
    "        Args:\n",
    "            bbox (list): Input list\n",
    "        Returns:\n",
    "            result_df (pandas DataFrame)\n",
    "    \"\"\"\n",
    "    client_instance = pywqp_client.RESTClient()\n",
    "    bbox_params = ','.join(bbox)\n",
    "    \n",
    "    # Preparing the input payload\n",
    "    verb = 'get'\n",
    "    host_url = 'http://waterqualitydata.us'\n",
    "    resource_label = 'station'\n",
    "    params = {'bBox':bbox_params,'siteType':'Lake, Reservoir, Impoundment'}\n",
    "    equivalent_url = client_instance.create_rest_url(host_url, resource_label, params, mime_type='text/csv')\n",
    "    \n",
    "    # Make the web-service call and get the response into a DataFrame\n",
    "    result = client_instance.request_wqp_data(verb, host_url, resource_label, params, mime_type='text/csv')\n",
    "    result_df = client_instance.response_as_pandas_dataframe(result)\n",
    "    return result_df\n"
   ]
  },
  {
   "cell_type": "markdown",
   "metadata": {},
   "source": [
    "##### 3. Function to check if the coordinates lie within the polygon of water body"
   ]
  },
  {
   "cell_type": "code",
   "execution_count": 3,
   "metadata": {
    "collapsed": true
   },
   "outputs": [],
   "source": [
    "# Checks presence of point inside the polygon\n",
    "def is_point_in_polygon(point,polygon):\n",
    "    \"\"\"\n",
    "        Checks presence of point inside the polygon\n",
    "        Args:\n",
    "            point (list): Input list, polygon (shapely.geometry.polygon.Polygon): Input polygon \n",
    "        Returns:\n",
    "            bool\n",
    "    \"\"\"\n",
    "    if polygon.contains(point):\n",
    "        return True\n",
    "    else:\n",
    "        return False"
   ]
  },
  {
   "cell_type": "markdown",
   "metadata": {},
   "source": [
    "---------------------"
   ]
  },
  {
   "cell_type": "markdown",
   "metadata": {},
   "source": [
    "Below section of the notebook contains the definition of functions to create each of the 6 tables"
   ]
  },
  {
   "cell_type": "markdown",
   "metadata": {},
   "source": [
    "##### 1) WaterBody - Table that stores details of water body\n",
    "\n",
    "This table stores details of the water body from <i>NHD</i>. Attributes of this table are :\n",
    "\n",
    "1. NHD_LAKE_ID - The ID given for the water body in <i>NHD</i> web-site\n",
    "2. AREA(sqkm) - Area of the water body in sq kms\n",
    "3. ELEVATION(feet) - Elevation of the water body in feet\n",
    "4. SHAPE_LENG(decimaldegrees) - Length of the water body shape in decimal degrees\n",
    "5. SHAPE_AREA(sqdecimaldegrees) - Area of the water body shape in square decimal degrees"
   ]
  },
  {
   "cell_type": "code",
   "execution_count": 5,
   "metadata": {
    "collapsed": true
   },
   "outputs": [],
   "source": [
    "def create_wb_table(df):\n",
    "    \"\"\"\n",
    "        Creates the dataframe of details of water bodies\n",
    "        Args:\n",
    "            df (pandas dataframe): Input dataframe\n",
    "        Returns:\n",
    "            df_wb (pandas dataframe)\n",
    "    \"\"\"\n",
    "    df_wb = df[['PERMANENT_','GNIS_NAME','GNIS_ID', 'AREASQKM', 'ELEVATION', 'FTYPE', 'FCODE', 'FDATE',\n",
    "                           'SHAPE_LENG', 'SHAPE_AREA']]\n",
    "    df_wb = df_wb.rename(index=str, columns={\"PERMANENT_\":\"NHD_LAKE_ID\",'AREASQKM':'AREA(sqkm)',\n",
    "                                                     'ELEVATION':'ELEVATION(feet)','SHAPE_LENG':'SHAPE_LENG(decimaldegrees)',\n",
    "                                                     'SHAPE_AREA': 'SHAPE_AREA(sqdecimaldegrees)'})\n",
    "    return df_wb"
   ]
  },
  {
   "cell_type": "markdown",
   "metadata": {},
   "source": [
    "##### 2) BoundingBox - Table that stores details about the bounding box \n",
    "\n",
    "This table stores details about the bounding boxes read from Shapefiles in <i>NHD</i>. Attributes of this table are:\n",
    "\n",
    "1. BB_ID - ID for the water body bounding box\n",
    "2. North - Minimum Latitude \n",
    "3. South - Maximum Latitude \n",
    "4. West - Minimum Longitude\n",
    "5. East - Maximum Longitude\n"
   ]
  },
  {
   "cell_type": "code",
   "execution_count": 6,
   "metadata": {
    "collapsed": true
   },
   "outputs": [],
   "source": [
    "def create_bbox_table(df,shapes,start):\n",
    "    \"\"\"\n",
    "        Creates the dataframe of details of bounding box of water body\n",
    "        Args:\n",
    "            df (pandas dataframe): Input dataframe, shapes (list): Input list,\n",
    "            start (str): Input string\n",
    "        Returns:\n",
    "            df_bbox (pandas dataframe)\n",
    "    \"\"\"\n",
    "    bbox_columns = ['BB_ID', 'North', 'South', 'West', 'East']\n",
    "    df_bbox = pd.DataFrame(columns=bbox_columns)\n",
    "    bbox_data = map(lambda (index,y): ('bb_'+str(index+start),y.bbox[1],y.bbox[3],y.bbox[0],y.bbox[2]), enumerate(shapes))\n",
    "    df_bbox = pd.DataFrame(bbox_data,columns=bbox_columns,index=None)\n",
    "    return df_bbox"
   ]
  },
  {
   "cell_type": "markdown",
   "metadata": {},
   "source": [
    "##### 3) W2B - Relation Table from Water Body to Bounding-Box \n",
    "\n",
    "This table stores the relation between water body and bounding box. Attributes of this table are:\n",
    "\n",
    "1. NHD_LAKE_ID - The ID given for the water body in NHD web-site\n",
    "2. GNIS_NAME - Name of the water body as per the Geographic Name Information System  \n",
    "3. BB_ID - ID for the water body bounding box\n"
   ]
  },
  {
   "cell_type": "code",
   "execution_count": 9,
   "metadata": {
    "collapsed": true
   },
   "outputs": [],
   "source": [
    "def create_w2b_table(df,shapes,df_bbox):\n",
    "    \"\"\"\n",
    "        Creates the dataframe of relation of bounding box to water body\n",
    "        Args:\n",
    "            df (pandas dataframe): Input dataframe, \n",
    "            shapes (list): Input list,\n",
    "            df_bbox (pandas dataframe): Input dataframe\n",
    "        Returns:\n",
    "            (df_w2b,w2b_table) (pandas dataframe, pandas dataframe)\n",
    "    \"\"\"\n",
    "    # Columns for W2B table\n",
    "    w2b_columns = ['NHD_LAKE_ID','BB_ID']\n",
    "    df_w2b = pd.DataFrame(columns=w2b_columns)\n",
    "    \n",
    "    # Processes the NHD water body dataframe, picking required columns, indexing the dataframe\n",
    "    df_v1 = pd.DataFrame(df[['PERMANENT_','GNIS_NAME']])\n",
    "    df_v1['Index'] = range(len(df_v1))\n",
    "    df_v1.set_index('Index')\n",
    "    \n",
    "    # Processes Bounding Box dataframe, indexing the dataframe\n",
    "    df_bbox['Index'] = range(len(df_bbox))\n",
    "    df_bbox.set_index('Index')\n",
    "    \n",
    "    # Joins the NHD water body dataframe and Bounding Box dataframe\n",
    "    df_w2b = df_v1.merge(df_bbox,left_on = 'Index',right_on='Index')\n",
    "    \n",
    "    # Projects only required columns and renames the joined dataframe \n",
    "    df_w2b = df_w2b[['PERMANENT_','GNIS_NAME','BB_ID']]\n",
    "    df_w2b = df_w2b.rename(index=str, columns={\"PERMANENT_\":\"NHD_LAKE_ID\"})\n",
    "    \n",
    "    # Reorders the columns in the joined dataframe\n",
    "    w2b_table = df_w2b[w2b_columns]\n",
    "    \n",
    "    return (df_w2b,w2b_table)"
   ]
  },
  {
   "cell_type": "markdown",
   "metadata": {},
   "source": [
    "##### 4) B2S - Relation Table from Bounding-Box to Sites \n",
    "This table stores the relation between water body and bounding box. Attributes of this table are:\n",
    "\n",
    "1. BB_ID - ID for the water body bounding box\n",
    "2. SITE_ID - ID for the site as per the <i>WQP</i>\n",
    "\n",
    "##### 5) W2S - Relation Table from Water Body to Sites\n",
    "This table stores the relation between water body and sites (obtained from <i>WQP</i>). Attributes of this table are:\n",
    "\n",
    "1. NHD_LAKE_ID - The ID given for the water body in NHD web-site\n",
    "2. GNIS_NAME - Name of the water body as per the Geographic Name Information System\n",
    "3. SITE_ID - ID for the site as per the <i>WQP</i>\n",
    "4. MonitoringLocationName - Name of the site as per <i>WQP</i> \n",
    "5. IsInsideLake - True/False depending on whether the site is inside the water body or not\n",
    "6. DistToShore(m) - Distance of the site to the shore of the water body in meters\n",
    "\n",
    "Inorder to obtain the b2s and w2s tables, following helper fucntions are used.<br> Following section of the notebook gives the function definitions of these helper functions.\n",
    "\n",
    "1. Function to calculate distance of the sites from the water body polygon\n",
    "2. Function to fetch the details of sites associated with the water body\n",
    "3. Function to form the relation between the bounding, sites and water body"
   ]
  },
  {
   "cell_type": "markdown",
   "metadata": {},
   "source": [
    "##### 1. Function to calculate distance of the sites from the water body polygon"
   ]
  },
  {
   "cell_type": "code",
   "execution_count": 7,
   "metadata": {
    "collapsed": true
   },
   "outputs": [],
   "source": [
    "def dist_in_poly(point,polygon):\n",
    "    \"\"\"\n",
    "        Calculates distance of point from the boundary of the polygon\n",
    "        Args:\n",
    "            point (shapely.geometry.point.Point): Input Point, \n",
    "            polygon (shapely.geometry.polygon.Polygon): Input Polygon\n",
    "        Returns:\n",
    "            dist (float)\n",
    "    \"\"\"\n",
    "    new_point = polygon.boundary.interpolate(polygon.boundary.project(point))\n",
    "    dist = geopy.distance.vincenty((new_point.x,new_point.y),(point.x,point.y)).m\n",
    "    dist = float(\"{0:.3f}\".format(dist))\n",
    "    return dist"
   ]
  },
  {
   "cell_type": "code",
   "execution_count": 11,
   "metadata": {
    "collapsed": true
   },
   "outputs": [],
   "source": [
    "# Function to check if all of the points lie at a distance of around 100 m from the boundary\n",
    "# and calculate the distance\n",
    "\n",
    "import geopy\n",
    "from shapely.geometry import Polygon, Point, LinearRing\n",
    "from geopy.distance import vincenty\n",
    "def dist_out_poly(poly,point):\n",
    "    \"\"\"\n",
    "        Check if the point lies at a distance of less than 100 m from the boundary\n",
    "        of the polygon and calculate the distance\n",
    "        Args:\n",
    "            poly (shapely.geometry.polygon.Polygon): Input Polygon\n",
    "            point (shapely.geometry.point.Point): Input Point, \n",
    "        Returns:\n",
    "            distance_points (float)\n",
    "    \"\"\"\n",
    "    pol_ext = poly.boundary\n",
    "    d = pol_ext.project(point)\n",
    "    p = pol_ext.interpolate(d)\n",
    "    distance_points = geopy.distance.vincenty((point.x,point.y),(p.x,p.y)).m\n",
    "    if distance_points<=100:\n",
    "        return float(\"{0:.3f}\".format(distance_points))\n",
    "    else:\n",
    "        return None"
   ]
  },
  {
   "cell_type": "code",
   "execution_count": 12,
   "metadata": {
    "collapsed": true
   },
   "outputs": [],
   "source": [
    "def dist_poly(lat_long,is_inside,polygon):\n",
    "    \"\"\"\n",
    "        Returns distance of the point depending on whether it is inside or outside\n",
    "        the water body polygon\n",
    "        Args:\n",
    "            lat_long (tuple): Input tuple\n",
    "            is_inside (bool): Input bool, \n",
    "            polygon (shapely.geometry.polygon.Polygon): Input Polygon\n",
    "        Returns:\n",
    "            (float)\n",
    "    \"\"\"\n",
    "    if is_inside:\n",
    "        return dist_in_poly(lat_long,polygon)\n",
    "    else:\n",
    "        return dist_out_poly(polygon,lat_long)\n",
    "        "
   ]
  },
  {
   "cell_type": "markdown",
   "metadata": {},
   "source": [
    "##### 2. Function to fetch the details of sites associated with the water body"
   ]
  },
  {
   "cell_type": "code",
   "execution_count": 13,
   "metadata": {
    "collapsed": true
   },
   "outputs": [],
   "source": [
    "def validate_site_ids(df,polygon,bbox_id):\n",
    "    \"\"\"\n",
    "        Checks if the site ids lies at a distance of less than 100 m \n",
    "        from the water body polygon and returns dataframe with site and whether it \n",
    "        lies inside/outside the polygon, its distance from it\n",
    "        Args:\n",
    "            df (pandas dataframe): Input dataframe,\n",
    "            polygon (shapely.geometry.polygon.Polygon): Input Polygon,\n",
    "            bbox_id (str): Input String\n",
    "        Returns:\n",
    "            df_sites_master_inner (pandas dataframe)\n",
    "    \"\"\"\n",
    "    if (df is None) or df.empty:\n",
    "        return\n",
    "    \n",
    "    # Initialize values\n",
    "    site_ids_list = []\n",
    "    extra_site_ids_list = []\n",
    "    \n",
    "    df['lat_long'] = tuple(zip(df['LongitudeMeasure'],df['LatitudeMeasure']))\n",
    "    df['lat_long'] = df['lat_long'].apply(lambda lat_long_tuple: Point(lat_long_tuple[0], lat_long_tuple[1]))\n",
    "    \n",
    "    df['point_in_polygon'] = df['lat_long'].apply(lambda point: is_point_in_polygon(point, polygon))\n",
    "    df['distance'] = df.apply(lambda row:dist_poly(row['lat_long'],row['point_in_polygon'],polygon),axis=1)\n",
    "    \n",
    "    df = df.dropna(subset=['distance'])\n",
    "    df_sites_master_inner = df[['MonitoringLocationIdentifier','MonitoringLocationName','point_in_polygon','distance']]\n",
    "    df_sites_master_inner['BB_ID'] = bbox_id\n",
    "    return df_sites_master_inner"
   ]
  },
  {
   "cell_type": "markdown",
   "metadata": {},
   "source": [
    "##### 3. Function to form the relation between the bounding, sites and water body."
   ]
  },
  {
   "cell_type": "code",
   "execution_count": 14,
   "metadata": {
    "collapsed": true
   },
   "outputs": [],
   "source": [
    "\n",
    "def func_2(index,shape,start):\n",
    "    \"\"\"\n",
    "       Helper function to produce relation between sites, water body and \n",
    "       bounding-box in dataframe\n",
    "        Args:\n",
    "            index (int): Input int,\n",
    "            shape (shapely.geometry.polygon.ShapeFile): Input ShapeFile,\n",
    "            start (int): Input int\n",
    "    \"\"\"\n",
    "    # Get bounding box of the water body\n",
    "    bbox = shape.bbox\n",
    "    sites_b=[]\n",
    "    \n",
    "    # Global variables\n",
    "    global df_sites,df_master_sites_table\n",
    "    \n",
    "    # Construct polygon\n",
    "    polygon = construct_polygon(shape)\n",
    "    bbox_list = [str(x) for x in bbox]\n",
    "    bbox_id = 'bb_'+str(index+start)\n",
    "    \n",
    "    # Query WQP on boundary box coordinates (WSEN):\n",
    "    df_sites_bbox = web_service_call(bbox_list)\n",
    "    \n",
    "    # Obtain the data of valid site IDs that lie within the lake polygon\n",
    "    df_master_sites = validate_site_ids(df_sites_bbox,polygon,bbox_id)\n",
    "    df_master_sites_table = df_master_sites_table.append(df_master_sites,ignore_index=True)\n",
    "    \n",
    "    # Obtain details of site IDs\n",
    "    df_sites = df_sites.append(df_sites_bbox,ignore_index=True)\n",
    "\n",
    "def create_b2s_table(shapes,w2b_master_table,start):\n",
    "    \"\"\"\n",
    "        Produce relation between sites, water body and bounding-box in dataframe\n",
    "        Args:\n",
    "            shapes (list): Input list,\n",
    "            w2b_master_table (pandas dataframe): Input dataframe,\n",
    "            start (int): Input int\n",
    "        Returns:\n",
    "            b2s_table,w2s_table (pandas dataframe, pandas dataframe)\n",
    "    \"\"\"\n",
    "    df_master_table = pd.DataFrame()\n",
    "    \n",
    "    # Columns for B2S table\n",
    "    b2s_cols = ['BB_ID', 'SITE_ID']\n",
    "    \n",
    "    # Columns for W2S table\n",
    "    w2s_cols = ['NHD_LAKE_ID', 'GNIS_NAME','SITE_ID','MonitoringLocationName','IsInsideLake','DistToShore(m)']\n",
    "    \n",
    "    # Produce relation between sites, water body and bounding-box\n",
    "    map(lambda (index,y) : func_2(index,y,start), enumerate(shapes))\n",
    "    \n",
    "    # Form details about sites table\n",
    "    df_master_table = df_master_sites_table.rename(index=str, columns={\"MonitoringLocationIdentifier\":\"SITE_ID\",'point_in_polygon':'IsInsideLake',\n",
    "                                                     'distance':'DistToShore(m)'})\n",
    "    # Join the W2B and df_master_table to produce relation between sites, water body, bounding box\n",
    "    joined_master_table = df_master_table.merge(w2b_master_table,left_on = 'BB_ID',right_on='BB_ID')\n",
    "   \n",
    "    # Form the B2S table and W2S table with columns\n",
    "    b2s_table = joined_master_table.loc[:,b2s_cols]\n",
    "    w2s_table = joined_master_table.loc[:,w2s_cols]\n",
    "    \n",
    "    # Rename few column names in W2S table\n",
    "    w2s_table = w2s_table.rename(index=str, columns={\"GNIS_NAME\":\"GNIS_LAKE_NAME\"})\n",
    "    \n",
    "    return b2s_table,w2s_table"
   ]
  },
  {
   "cell_type": "markdown",
   "metadata": {},
   "source": [
    "##### 6) Sites table - Table that stores details of sites\n",
    "This table stores the relation between water body and sites (obtained from WQP). It includes all the attributes as obtained from <i>WQP</i>"
   ]
  },
  {
   "cell_type": "code",
   "execution_count": 15,
   "metadata": {
    "collapsed": true
   },
   "outputs": [],
   "source": [
    "def create_sites_table(b2s_table):\n",
    "    \"\"\"\n",
    "        Form sites table\n",
    "        Args:\n",
    "            b2s_table (pandas dataframe): Input pandas dataframe\n",
    "    \"\"\"\n",
    "    global df_sites\n",
    "    \n",
    "    # Getting the unique site values for the dataframe\n",
    "    site_vals = set(b2s_table['SITE_ID'].values.tolist())\n",
    "    \n",
    "    # list of column names needed in sites dataframe\n",
    "    list_cols = ['OrganizationIdentifier','OrganizationFormalName','SITE_ID','MonitoringLocationName','MonitoringLocationTypeName',\n",
    "     'MonitoringLocationDescriptionText','HUCEightDigitCode','DrainageAreaMeasure/MeasureValue','DrainageAreaMeasure/MeasureUnitCode',\n",
    "     'ContributingDrainageAreaMeasure/MeasureValue','ContributingDrainageAreaMeasure/MeasureUnitCode',\n",
    "     'LatitudeMeasure','LongitudeMeasure','SourceMapScaleNumeric','HorizontalAccuracyMeasure/MeasureValue',\n",
    "     'HorizontalAccuracyMeasure/MeasureUnitCode','HorizontalCollectionMethodName',\n",
    "     'HorizontalCoordinateReferenceSystemDatumName','VerticalMeasure/MeasureValue','VerticalMeasure/MeasureUnitCode',\n",
    "     'VerticalAccuracyMeasure/MeasureValue','VerticalAccuracyMeasure/MeasureUnitCode',\n",
    "     'VerticalCollectionMethodName','VerticalCoordinateReferenceSystemDatumName',\n",
    "     'CountryCode','StateCode','CountyCode','AquiferName','FormationTypeText','AquiferTypeName','ConstructionDateText',\n",
    "     'WellDepthMeasure/MeasureValue','WellDepthMeasure/MeasureUnitCode','WellHoleDepthMeasure/MeasureValue',\n",
    "     'WellHoleDepthMeasure/MeasureUnitCode','ProviderName']\n",
    "    \n",
    "    # Renaming and reordering the column names\n",
    "    df_sites = df_sites.rename(index=str, columns={\"MonitoringLocationIdentifier\":\"SITE_ID\"})\n",
    "    df_sites = df_sites[df_sites['SITE_ID'].isin(site_vals)]\n",
    "    \n",
    "    # Putting SITE_ID in the beginning of the dataframe\n",
    "    a, b = list_cols.index('SITE_ID'), list_cols.index('OrganizationIdentifier')\n",
    "    list_cols[b], list_cols[a] = list_cols[a], list_cols[b]\n",
    "    \n",
    "    df_sites = df_sites.loc[:,list_cols]\n",
    "    df_sites.drop(df_sites.columns[[34,35]], axis=1, inplace=True)"
   ]
  },
  {
   "cell_type": "markdown",
   "metadata": {},
   "source": [
    "--------------------"
   ]
  },
  {
   "cell_type": "markdown",
   "metadata": {},
   "source": [
    "Below is the definition of the function that calls the above discussed functions and creates the dataset of 6 tables"
   ]
  },
  {
   "cell_type": "code",
   "execution_count": 16,
   "metadata": {
    "collapsed": true
   },
   "outputs": [],
   "source": [
    "def create_6_tables_each_folder(folderpath):\n",
    "    \"\"\"\n",
    "        Forms the data set for the nhd to wqp\n",
    "        Args:\n",
    "            folderpath (string): Input String\n",
    "    \"\"\"\n",
    "    global shapes\n",
    "    df = pd.read_csv(folderpath+'/lakes.csv')\n",
    "    \n",
    "    # Read the info file to get the start and end index for shapes\n",
    "    df_info = pd.read_csv(folderpath+'/info.csv')\n",
    "    start = df_info.loc[0]['start_index']\n",
    "    #end = df_info.loc[0]['end_index']\n",
    "    end =  df_info.loc[0]['start_index']+1000\n",
    "    shapes = shapes[start:end]\n",
    "    \n",
    "    # Create tables data path within the folder\n",
    "    table_data_path = folderpath+'/tables'\n",
    "    if os.path.exists(table_data_path): \n",
    "        shutil.rmtree(table_data_path)\n",
    "    os.makedirs(table_data_path)\n",
    "    \n",
    "    # Create 1. water body dataset\n",
    "    wb_table = create_wb_table(df)\n",
    "    wb_table.to_csv(table_data_path+'/waterbody.csv',index=None)\n",
    "    \n",
    "    # Create 2. bounding-box dataset\n",
    "    bbox_table = create_bbox_table(df,shapes,start)\n",
    "    bbox_table.to_csv(table_data_path+'/boundingbox.csv', index=None)\n",
    "    \n",
    "    # Create 3. water body to bounding-box (w2b) dataset\n",
    "    w2b_master_table,w2b_table = create_w2b_table(df,shapes,bbox_table)\n",
    "    w2b_table.to_csv(table_data_path+'/w2b.csv',index=None)\n",
    "  \n",
    "    # Create 4. bounding-box to site (b2s) & 5. water body to site (w2s) dataset\n",
    "    b2s_table,w2s_table = create_b2s_table(shapes,w2b_master_table,start)\n",
    "    b2s_table.to_csv(table_data_path+'/b2s.csv',index=None)\n",
    "\n",
    "    #  5. water body to site dataset(w2s)\n",
    "    w2s_table.to_csv(table_data_path+'/w2s.csv',index=None)\n",
    "    \n",
    "    # Create 6. sites dataset\n",
    "    create_sites_table(b2s_table)\n",
    "    df_sites.to_csv(table_data_path+'/sites.csv',index=None)\n",
    "    "
   ]
  },
  {
   "cell_type": "code",
   "execution_count": 1,
   "metadata": {
    "collapsed": true
   },
   "outputs": [],
   "source": [
    "def final_func(folderpath_list):\n",
    "    \"\"\"\n",
    "        Forms the data set for the nhd to wqp with 10 processes\n",
    "        Args:\n",
    "            folderpath_list (list): Input list\n",
    "    \"\"\"\n",
    "    from multiprocessing import Pool\n",
    "    pool = Pool(processes=10)\n",
    "    pool.map(create_6_tables_each_folder,folderpath_list)\n",
    "    "
   ]
  },
  {
   "cell_type": "markdown",
   "metadata": {},
   "source": [
    "------------------"
   ]
  }
 ],
 "metadata": {
  "kernelspec": {
   "display_name": "Python 2",
   "language": "python",
   "name": "python2"
  },
  "language_info": {
   "codemirror_mode": {
    "name": "ipython",
    "version": 2
   },
   "file_extension": ".py",
   "mimetype": "text/x-python",
   "name": "python",
   "nbconvert_exporter": "python",
   "pygments_lexer": "ipython2",
   "version": "2.7.13"
  }
 },
 "nbformat": 4,
 "nbformat_minor": 2
}
